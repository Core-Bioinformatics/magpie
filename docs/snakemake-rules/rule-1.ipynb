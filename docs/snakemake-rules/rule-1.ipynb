{
 "cells": [
  {
   "cell_type": "markdown",
   "metadata": {},
   "source": [
    "# Snakemake Rule 1: Transform coordinates to match between modalities\n",
    "\n",
    "This step takes landmarks identified through the MAGPIE app (or otherwise) and calculates new MSI coordinates in the same coordinate system.\n",
    "\n",
    "## Input\n",
    "- MSI data: `input/[sample]/msi/MSI_metadata.csv`, `input/[sample]/msi/MSI_HE.jpg` (optional)\n",
    "- Landmarks: `input/[sample]/landmarks_noHE.csv` or `input/[sample]/landmarks_MSI2HE.csv` and `input/[sample]/landmarks_HE2HE.csv`\n",
    "\n",
    "## Output\n",
    "- New MSI coordinates: `output/[sample]/transformed.csv`, `output/[sample]/transformed.png`, `output/[sample]/transformed_withCoords.png`\n",
    "\n",
    "## Example output\n",
    "\n",
    "![app_options](../figures/transformed_withCoords.png)\n",
    "\n",
    "## Code (from Snakemake file)\n",
    "```python\n",
    "rule perform_coreg:\n",
    "    input:\n",
    "        \"input/{sample}/msi/MSI_metadata.csv\"\n",
    "    output:\n",
    "        \"output/{sample}/transformed.csv\",\n",
    "        \"output/{sample}/transformed_withCoords.png\",\n",
    "        \"output/{sample}/transformed.png\"\n",
    "    params:\n",
    "        transform_type = 'TPS',\n",
    "        sample = \"{sample}\"\n",
    "    script:\n",
    "        \"scripts/alter_data.py\"\n",
    "```\n",
    "\n"
   ]
  }
 ],
 "metadata": {
  "language_info": {
   "name": "python"
  }
 },
 "nbformat": 4,
 "nbformat_minor": 2
}
