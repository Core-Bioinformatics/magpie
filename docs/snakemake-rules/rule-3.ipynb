{
 "cells": [
  {
   "cell_type": "markdown",
   "metadata": {},
   "source": [
    "# Snakemake Rule 3: Match observations between modalities\n",
    "\n",
    "This rule create matching observations between MSI and Visium and saves into another spaceranger-style object.\n",
    "\n",
    "## Input\n",
    "- MSI in spaceranger style: `output/[sample]/spaceranger`\n",
    "\n",
    "## Parameters\n",
    "- *agg_fn* allows the user to select how multiple MSI pixels corresponding to the same Visium barcode are aggregated ('mean' or 'sum')\n",
    "- *only_within_tissue* specifies whether Visium barcodes should be filtered for only those labelled as within the tissue by the Space Ranger pre-processing\n",
    "- *verbose* determines how much information about different stages of the process is delivered to the user\n",
    "\n",
    "## Output\n",
    "- MSI data matched with Visium spots in spaceranger style: `output/[sample]/spaceranger_aggregated`\n",
    "- Correspondence between MSI pixels and Visium spots `output/[sample]/matched_Visium_MSI_IDs.csv`\n",
    "\n",
    "## Code (from Snakemake file)\n",
    "```python\n",
    "rule create_barcode_matrix:\n",
    "    message:\n",
    "        \"Generating aggregated data.\"\n",
    "    conda: 'magpie'\n",
    "    input:\n",
    "        \"output/{sample}/spaceranger/filtered_feature_bc_matrix.h5\"\n",
    "    output:\n",
    "        \"output/{sample}/spaceranger_aggregated/filtered_feature_bc_matrix.h5\"\n",
    "    params:\n",
    "        sample = \"{sample}\",\n",
    "        agg_fn = 'mean',\n",
    "        verbose = True,\n",
    "        only_within_tissue = False\n",
    "    script:\n",
    "        \"scripts/create_perbarcode_matrix.py\"\n",
    "```\n"
   ]
  }
 ],
 "metadata": {
  "language_info": {
   "name": "python"
  }
 },
 "nbformat": 4,
 "nbformat_minor": 2
}
