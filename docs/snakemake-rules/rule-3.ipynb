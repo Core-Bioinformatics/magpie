{
 "cells": [
  {
   "cell_type": "markdown",
   "metadata": {},
   "source": [
    "# Snakemake Rule 3: Match observations between modalities\n",
    "\n",
    "This rule create matching observations between MSI and Visium and saves into another spaceranger-style object.\n",
    "\n",
    "## Input\n",
    "- MSI in spaceranger style: `output/[sample]/spaceranger`\n",
    "\n",
    "## Output\n",
    "- MSI data matched with Visium spots in spaceranger style: `output/[sample]/spaceranger_meanIntensity`\n",
    "\n",
    "## Code (from Snakemake file)\n",
    "```python\n",
    "rule create_barcode_matrix:\n",
    "    input:\n",
    "        \"output/{sample}/spaceranger/filtered_feature_bc_matrix.h5\"\n",
    "    output:\n",
    "        \"output/{sample}/spaceranger_meanIntensity/filtered_feature_bc_matrix.h5\"\n",
    "    params:\n",
    "        sample = \"{sample}\"\n",
    "    script:\n",
    "        \"scripts/create_perbarcode_matrix.py\"\n",
    "```\n"
   ]
  }
 ],
 "metadata": {
  "language_info": {
   "name": "python"
  }
 },
 "nbformat": 4,
 "nbformat_minor": 2
}
