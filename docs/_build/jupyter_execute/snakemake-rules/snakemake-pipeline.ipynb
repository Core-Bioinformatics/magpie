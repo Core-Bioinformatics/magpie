{
 "cells": [
  {
   "cell_type": "markdown",
   "metadata": {},
   "source": [
    "# Running the snakemake pipeline\n",
    "\n",
    "After landmarks have been identified, either using the MAGPIE interactive shiny app or using another method, they must be saved in the structure specified in the [Input structure](input-structure) section. Specifically, each set of landmarks must be saved in a comma-separated variable (csv) format, with column names *X_left, Y_left, X_right, Y_right* where left and right refer to the first and second image respectively. \n",
    "\n",
    "Once all inputs are in the correct format, you can run the pipeline by navigating to the folder where your Snakemake file, as well as all the input files and scripts, are saved and using:\n",
    "\n",
    "```bash\n",
    "snakemake\n",
    "```\n",
    "\n",
    "If you want to parallelise the pipeline you can use:\n",
    "\n",
    "```bash\n",
    "snakemake -j [number of cores]\n",
    "```\n",
    "\n",
    "Other command-line parameters can be found in the [snakemake documentation](https://snakemake.readthedocs.io/en/stable/executing/cli.html).\n",
    "\n",
    "For details on individual pipeline steps, refer to the next documentation pages. "
   ]
  }
 ],
 "metadata": {
  "language_info": {
   "name": "python"
  }
 },
 "nbformat": 4,
 "nbformat_minor": 2
}