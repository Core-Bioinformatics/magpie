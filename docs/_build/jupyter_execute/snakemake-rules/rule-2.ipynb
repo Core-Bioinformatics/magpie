{
 "cells": [
  {
   "cell_type": "markdown",
   "metadata": {},
   "source": [
    "# Snakemake Rule 2: Create spaceranger object\n",
    "\n",
    "This step creates a spaceranger-style object for the newly transformed MSI data.\n",
    "\n",
    "## Input\n",
    "- New MSI coordinates and image: `output/[sample]/transformed.csv`, `output/[sample]/transformed.png`\n",
    "- MSI intensities: `input/[sample]/msi/MSI_intensities.csv`\n",
    "\n",
    "## Parameters\n",
    "- *verbose* determines how much information about different stages of the process is delivered to the user\n",
    "\n",
    "## Output\n",
    "- MSI in spaceranger style: `output/[sample]/spaceranger/`\n",
    "\n",
    "## Code (from Snakemake file)\n",
    "```python\n",
    "rule make_spaceranger:\n",
    "    message:\n",
    "        \"Creating spaceranger formatted output.\"\n",
    "    conda: 'magpie'\n",
    "    input:\n",
    "        \"output/{sample}/transformed.csv\",\n",
    "        \"output/{sample}/transformed.png\"\n",
    "    output:\n",
    "        \"output/{sample}/spaceranger/filtered_feature_bc_matrix.h5\"\n",
    "    params:\n",
    "        sample = \"{sample}\",\n",
    "        verbose = True\n",
    "    script:\n",
    "        \"scripts/create_mock_spaceranger.py\"\n",
    "```\n",
    "\n"
   ]
  }
 ],
 "metadata": {
  "language_info": {
   "name": "python"
  }
 },
 "nbformat": 4,
 "nbformat_minor": 2
}